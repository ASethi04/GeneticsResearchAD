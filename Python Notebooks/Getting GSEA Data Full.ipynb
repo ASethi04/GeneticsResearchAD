{
 "cells": [
  {
   "cell_type": "code",
   "execution_count": 25,
   "metadata": {},
   "outputs": [],
   "source": [
    "%pwd\n",
    "%matplotlib inline\n",
    "\n",
    "import matplotlib.pyplot as plt\n",
    "import pandas as pd\n",
    "import numpy as np\n",
    "import pickle\n",
    "import csv\n",
    "\n",
    "labels = [-1, 'CN', 'EMCI', 'LMCI', 'AD']"
   ]
  },
  {
   "cell_type": "code",
   "execution_count": 69,
   "metadata": {},
   "outputs": [],
   "source": [
    "#Loading in data\n",
    "df = pd.read_csv('Data/ADNI_Gene_Expression_Profile.csv', header=2)\n",
    "df = df[6:]\n",
    "df = df.drop(df.columns[[1, -1]], axis=1)\n",
    "df = df.rename({'SubjectID':'ProbeSet', 'Unnamed: 2':'Gene'}, axis=1)\n",
    "df = df.set_index(['Gene', 'ProbeSet'])\n",
    "df = df.loc[df.index.dropna()]\n",
    "\n",
    "dfanno = pd.read_csv('Data/ADNIMERGE.csv')\n",
    "dfanno = pd.Series(dfanno['DX_bl'].values, index=dfanno['PTID'])\n",
    "dfanno = dfanno.groupby(dfanno.index).last()\n",
    "dfanno = dfanno.loc[df.columns]"
   ]
  },
  {
   "cell_type": "code",
   "execution_count": 70,
   "metadata": {},
   "outputs": [],
   "source": [
    "#Load Genes\n",
    "with open(\"genes.txt\", \"rb\") as fp:   # Unpickling\n",
    "    genes = pickle.load(fp)"
   ]
  },
  {
   "cell_type": "code",
   "execution_count": 71,
   "metadata": {},
   "outputs": [],
   "source": [
    "#Choose Genes\n",
    "dfanno = dfanno.loc[df.columns]\n",
    "dftop = df.loc[genes]\n",
    "dftop = dftop.groupby(dftop.index).first()\n",
    "dftop = dftop.astype(float)"
   ]
  },
  {
   "cell_type": "code",
   "execution_count": 72,
   "metadata": {},
   "outputs": [],
   "source": [
    "#Standardize\n",
    "dftop = dftop.astype(float)\n",
    "dftop = dftop.sub(dftop.mean(1), axis=0).div(dftop.std(1), axis=0)\n",
    "X = dftop.T\n",
    "y = dfanno\n",
    "X.columns = pd.MultiIndex.from_tuples(X.columns.values).droplevel(1) #keep genes get rid of probes"
   ]
  },
  {
   "cell_type": "code",
   "execution_count": 66,
   "metadata": {},
   "outputs": [],
   "source": [
    "AD = y.replace('AD', 0).replace('LMCI', 3).replace('EMCI', 2).replace('CN', 1)"
   ]
  },
  {
   "cell_type": "code",
   "execution_count": 67,
   "metadata": {},
   "outputs": [],
   "source": [
    "BINARY = y.replace('AD', 0).replace('LMCI', 1).replace('EMCI', 1).replace('CN', 1)"
   ]
  },
  {
   "cell_type": "code",
   "execution_count": 82,
   "metadata": {},
   "outputs": [
    {
     "name": "stdout",
     "output_type": "stream",
     "text": [
      "         116_S_1249  037_S_4410  006_S_4153  116_S_1232  099_S_4205  \\\n",
      "ABCA1      1.822807   -0.779124    0.968616   -0.303925    0.381177   \n",
      "ABCA4     -0.652624   -2.129883   -1.531127    0.392746   -1.462417   \n",
      "ABCG4     -1.094384   -0.851499    0.197762   -0.754346   -0.584327   \n",
      "ABHD12B    0.241881   -0.745238   -0.308628   -0.058684    1.238490   \n",
      "ABI1       1.338883    0.891722    0.370033   -0.927762    1.292625   \n",
      "...             ...         ...         ...         ...         ...   \n",
      "ZNF836     0.678103   -0.856296    0.936616    0.890751    0.265316   \n",
      "ZNF85     -1.240764   -0.141903    0.299064    1.664638   -1.240764   \n",
      "ZSCAN23    0.062548   -1.229122   -0.951914   -0.002331    0.027159   \n",
      "ZSCAN4     0.616652   -1.436080   -0.581359   -0.245075   -0.903630   \n",
      "ZWILCH     0.074735    0.988636    0.288067   -0.999823    1.365259   \n",
      "\n",
      "         007_S_4467  128_S_0205  003_S_2374  036_S_4491  098_S_4059  ...  \\\n",
      "ABCA1      0.378262    0.732474    2.281972    0.972989    0.628980  ...   \n",
      "ABCA4     -0.127485   -0.436679    0.544889    1.423392    0.981686  ...   \n",
      "ABCG4      0.868123   -0.074269   -0.530892    1.271311   -0.103415  ...   \n",
      "ABHD12B   -0.049193    0.643688    1.020185   -0.602865   -0.457328  ...   \n",
      "ABI1      -0.601386    0.663001    1.066474   -2.076504    0.686130  ...   \n",
      "...             ...         ...         ...         ...         ...  ...   \n",
      "ZNF836     0.031821   -0.977213   -1.194030   -1.677700   -0.639479  ...   \n",
      "ZNF85     -0.774904   -0.600651    0.530215   -1.151859    0.896502  ...   \n",
      "ZSCAN23   -1.305796   -0.774973   -1.164243   -0.774973   -0.816259  ...   \n",
      "ZSCAN4     0.049173   -2.199724   -1.274944    0.700723   -0.364175  ...   \n",
      "ZWILCH     1.165096    1.681305   -0.415137   -1.178916    1.007073  ...   \n",
      "\n",
      "         082_S_4339  022_S_2379  014_S_4668  130_S_0289  141_S_4456  \\\n",
      "ABCA1      1.010888    0.056118   -0.548813   -0.080902    0.503621   \n",
      "ABCA4     -0.186379    1.678599    2.517839    0.382930   -0.289444   \n",
      "ABCG4      1.844518    0.226908   -0.739773   -0.540607    0.654384   \n",
      "ABHD12B   -0.299136   -0.824334    0.570920   -0.704108    0.042559   \n",
      "ABI1      -1.827225    0.097625   -1.464870    0.611603   -0.629655   \n",
      "...             ...         ...         ...         ...         ...   \n",
      "ZNF836    -1.323287    0.394573    1.086720    1.245164   -0.364288   \n",
      "ZNF85      2.077155    0.658238   -1.891545   -0.415729   -1.351006   \n",
      "ZSCAN23    1.566546    0.616963   -0.391601   -0.786769    1.383707   \n",
      "ZSCAN4     2.010828    0.784794    0.469528   -0.069927   -0.076933   \n",
      "ZWILCH    -0.333491   -0.704846   -1.005090    1.196700    0.317038   \n",
      "\n",
      "         009_S_2381  053_S_4557  073_S_4300  041_S_4014  007_S_0101  \n",
      "ABCA1     -1.156659   -1.217881    0.140663   -0.684375    0.547351  \n",
      "ABCA4      1.374313    1.992701   -0.858753    0.589059   -0.475942  \n",
      "ABCG4      1.164442    0.124896   -0.428880    0.834119    1.703645  \n",
      "ABHD12B   -0.083995   -0.096650   -0.390887   -1.681734   -0.375068  \n",
      "ABI1       0.714399   -0.894354   -1.441741   -2.436289   -0.380375  \n",
      "...             ...         ...         ...         ...         ...  \n",
      "ZNF836     0.056838    0.044330    0.511321   -0.001536    0.348708  \n",
      "ZNF85     -0.166796    0.466204    0.441311    0.512435   -0.476184  \n",
      "ZSCAN23    0.729025    0.068446    0.481308    0.357449   -0.421091  \n",
      "ZSCAN4     1.569456    0.203303   -1.751346    2.087893   -0.770518  \n",
      "ZWILCH    -0.557358   -0.823363   -0.976119   -0.199172   -0.876038  \n",
      "\n",
      "[1000 rows x 744 columns]\n"
     ]
    }
   ],
   "source": [
    "print(X.T) #I think this is the format you want so just transpose X"
   ]
  },
  {
   "cell_type": "code",
   "execution_count": 8,
   "metadata": {},
   "outputs": [],
   "source": [
    "#Just format the diagnosis values using AD (0, 1, 2, 3) or Binary (0, 1)"
   ]
  },
  {
   "cell_type": "code",
   "execution_count": 9,
   "metadata": {},
   "outputs": [],
   "source": [
    "X.to_csv('Data/GSEAgene.gct.txt', quoting=csv.QUOTE_MINIMAL)"
   ]
  },
  {
   "cell_type": "code",
   "execution_count": 10,
   "metadata": {},
   "outputs": [
    {
     "name": "stderr",
     "output_type": "stream",
     "text": [
      "C:\\Users\\andre\\Anaconda3\\lib\\site-packages\\ipykernel_launcher.py:1: FutureWarning: The signature of `Series.to_csv` was aligned to that of `DataFrame.to_csv`, and argument 'header' will change its default value from False to True: please pass an explicit value to suppress this warning.\n",
      "  \"\"\"Entry point for launching an IPython kernel.\n"
     ]
    }
   ],
   "source": [
    "AD.to_csv('Data/GSEAdiagnosis.cls')"
   ]
  },
  {
   "cell_type": "code",
   "execution_count": null,
   "metadata": {},
   "outputs": [],
   "source": [
    "BINARY.to_csv('Data/GSEAdiagnosis_binary.cls')"
   ]
  }
 ],
 "metadata": {
  "kernelspec": {
   "display_name": "Python 3",
   "language": "python",
   "name": "python3"
  },
  "language_info": {
   "codemirror_mode": {
    "name": "ipython",
    "version": 3
   },
   "file_extension": ".py",
   "mimetype": "text/x-python",
   "name": "python",
   "nbconvert_exporter": "python",
   "pygments_lexer": "ipython3",
   "version": "3.7.4"
  }
 },
 "nbformat": 4,
 "nbformat_minor": 2
}
