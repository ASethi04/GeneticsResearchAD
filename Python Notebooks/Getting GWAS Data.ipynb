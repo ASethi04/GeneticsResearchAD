{
 "cells": [
  {
   "cell_type": "code",
   "execution_count": 1,
   "metadata": {},
   "outputs": [],
   "source": [
    "%pwd\n",
    "%matplotlib inline\n",
    "\n",
    "import matplotlib.pyplot as plt\n",
    "import pandas as pd\n",
    "import numpy as np"
   ]
  },
  {
   "cell_type": "code",
   "execution_count": 2,
   "metadata": {},
   "outputs": [
    {
     "name": "stderr",
     "output_type": "stream",
     "text": [
      "C:\\Users\\andre\\Anaconda3\\lib\\site-packages\\IPython\\core\\interactiveshell.py:3058: DtypeWarning: Columns (18,19,20,103,104) have mixed types. Specify dtype option on import or set low_memory=False.\n",
      "  interactivity=interactivity, compiler=compiler, result=result)\n"
     ]
    }
   ],
   "source": [
    "dfanno = pd.read_csv('Data/ADNIMERGE.csv')\n",
    "dfanno = pd.Series(dfanno['DX_bl'].values, index=dfanno['PTID'])\n",
    "dfanno = dfanno.groupby(dfanno.index).last()"
   ]
  },
  {
   "cell_type": "code",
   "execution_count": 6,
   "metadata": {},
   "outputs": [],
   "source": [
    "df = pd.read_csv('C:/Users/andre/OneDrive/Documents/Science Fair/GWAS/ADNI_1_GWAS_Plink/ADNI_cluster_01_forward_757LONI.FAM', sep=' ', header=None)"
   ]
  },
  {
   "cell_type": "code",
   "execution_count": 8,
   "metadata": {},
   "outputs": [
    {
     "name": "stdout",
     "output_type": "stream",
     "text": [
      "PTID\n",
      "014_S_0520      CN\n",
      "005_S_1341      AD\n",
      "012_S_1175    LMCI\n",
      "012_S_0803      AD\n",
      "018_S_0055      CN\n",
      "              ... \n",
      "013_S_0699      AD\n",
      "057_S_0934      CN\n",
      "141_S_1052    LMCI\n",
      "129_S_0778      CN\n",
      "053_S_0919    LMCI\n",
      "Length: 757, dtype: object\n"
     ]
    }
   ],
   "source": [
    "print(dfanno.loc[df[1]])"
   ]
  },
  {
   "cell_type": "code",
   "execution_count": 4,
   "metadata": {},
   "outputs": [],
   "source": [
    "df[5] = dfanno.loc[df[1]].replace('AD', 2).replace('CN', 1).replace('LMCI', 1).replace('EMCI', 1).values"
   ]
  },
  {
   "cell_type": "code",
   "execution_count": 5,
   "metadata": {},
   "outputs": [
    {
     "name": "stdout",
     "output_type": "stream",
     "text": [
      "       0           1  2  3  4  5\n",
      "0      1  014_S_0520  0  0  2  1\n",
      "1      2  005_S_1341  0  0  2  2\n",
      "2      3  012_S_1175  0  0  1  1\n",
      "3      4  012_S_0803  0  0  2  2\n",
      "4      5  018_S_0055  0  0  1  1\n",
      "..   ...         ... .. .. .. ..\n",
      "752  813  013_S_0699  0  0  1  2\n",
      "753  814  057_S_0934  0  0  2  1\n",
      "754  815  141_S_1052  0  0  2  1\n",
      "755  816  129_S_0778  0  0  1  1\n",
      "756  817  053_S_0919  0  0  1  1\n",
      "\n",
      "[757 rows x 6 columns]\n"
     ]
    }
   ],
   "source": [
    "print(df)"
   ]
  },
  {
   "cell_type": "code",
   "execution_count": 5,
   "metadata": {},
   "outputs": [],
   "source": [
    "df.to_csv('C:/Users/andre/OneDrive/Documents/Science Fair/GWAS/ADNI_1_GWAS_Plink/ADNI_cluster_01_forward_757LONI.FAM', header=False, index=False, sep=' ')"
   ]
  },
  {
   "cell_type": "code",
   "execution_count": 6,
   "metadata": {},
   "outputs": [],
   "source": [
    "df = pd.read_csv('C:/Users/andre/OneDrive/Documents/Science Fair/GWAS/ADNI_GO_2_OmniExpress/ADNI_GO_2_Forward_Bin.FAM', sep=' ', header=None)"
   ]
  },
  {
   "cell_type": "code",
   "execution_count": 7,
   "metadata": {},
   "outputs": [],
   "source": [
    "df[5] = dfanno.loc[df[1]].replace('AD', 2).replace('CN', 1).replace('LMCI', 1).replace('EMCI', 1).values"
   ]
  },
  {
   "cell_type": "code",
   "execution_count": 8,
   "metadata": {},
   "outputs": [],
   "source": [
    "df.to_csv('C:/Users/andre/OneDrive/Documents/Science Fair/GWAS/ADNI_GO_2_OmniExpress/ADNI_GO_2_Forward_Bin.FAM', header=False, index=False, sep=' ')"
   ]
  },
  {
   "cell_type": "code",
   "execution_count": 9,
   "metadata": {},
   "outputs": [],
   "source": [
    "df = pd.read_csv('C:/Users/andre/OneDrive/Documents/Science Fair/GWAS/WGS_Omni2.5M_20140220/WGS_Omni25_BIN_wo_ConsentsIssues.FAM', sep=' ', header=None)"
   ]
  },
  {
   "cell_type": "code",
   "execution_count": 10,
   "metadata": {},
   "outputs": [],
   "source": [
    "df[5] = dfanno.loc[df[1]].replace('AD', 2).replace('CN', 1).replace('LMCI', 1).replace('EMCI', 1).values"
   ]
  },
  {
   "cell_type": "code",
   "execution_count": 11,
   "metadata": {},
   "outputs": [],
   "source": [
    "df.to_csv('C:/Users/andre/OneDrive/Documents/Science Fair/GWAS/WGS_Omni2.5M_20140220/WGS_Omni25_BIN_wo_ConsentsIssues.FAM', header=False, index=False, sep=' ')"
   ]
  }
 ],
 "metadata": {
  "kernelspec": {
   "display_name": "Python 3",
   "language": "python",
   "name": "python3"
  },
  "language_info": {
   "codemirror_mode": {
    "name": "ipython",
    "version": 3
   },
   "file_extension": ".py",
   "mimetype": "text/x-python",
   "name": "python",
   "nbconvert_exporter": "python",
   "pygments_lexer": "ipython3",
   "version": "3.7.4"
  }
 },
 "nbformat": 4,
 "nbformat_minor": 2
}
